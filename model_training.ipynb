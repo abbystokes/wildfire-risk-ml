{
 "cells": [
  {
   "cell_type": "markdown",
   "metadata": {},
   "source": [
    "## Training UNet model for fire scar prediction \n"
   ]
  },
  {
   "cell_type": "code",
   "execution_count": 4,
   "metadata": {},
   "outputs": [
    {
     "name": "stdout",
     "output_type": "stream",
     "text": [
      "Global Mean and Std per Band:\n",
      "Ignition Point: mean=0.0000, std=0.0001\n",
      "Distance to Water: mean=5813.8086, std=3816.9896\n",
      "Heat Load: mean=0.5343, std=0.3222\n",
      "Topographic Complexity: mean=2.2723, std=2.1330\n",
      "Slope: mean=7.2479, std=8.2621\n",
      "Elevation: mean=358.5952, std=388.9895\n",
      "Aspect: mean=199.6984, std=92.1633\n",
      "NDVI: mean=0.4463, std=0.1693\n",
      "Fire History: mean=0.0016, std=0.0107\n",
      "Time Since Last Fire: mean=32.2916, std=4.2432\n",
      "Max Temperature Anomaly: mean=0.1813, std=0.8588\n",
      "Minimum Temperature Anomaly: mean=0.1772, std=0.7127\n",
      "Precipitation Anomaly: mean=-0.8084, std=16.6210\n",
      "Accumulated Annual Precipitation: mean=397.8843, std=374.9523\n",
      "Solar Radiation: mean=24350.4528, std=8524.3556\n",
      "Water Vapor Pressure: mean=1.2697, std=0.1793\n",
      "Wind Speed: mean=2.4683, std=0.4378\n",
      "Distance to Road: mean=1514.8222, std=2101.6571\n",
      "Distance to Population: mean=10193.7952, std=9285.8278\n",
      "Population Density: mean=42.7422, std=101.3608\n"
     ]
    }
   ],
   "source": [
    "### from scratch\n",
    "# Getting normalization stats\n",
    "import os\n",
    "import glob\n",
    "import rasterio\n",
    "import numpy as np\n",
    "\n",
    "merged_dir = 'data/merged'\n",
    "merged_files = sorted(glob.glob(os.path.join(merged_dir, 'merged_ID*.tif')))\n",
    "\n",
    "band_count = None\n",
    "band_names = []\n",
    "global_sum = []\n",
    "global_sum_sq = []\n",
    "global_pixel_count = []\n",
    "\n",
    "for merged_path in merged_files:\n",
    "    with rasterio.open(merged_path) as src:\n",
    "        if band_count is None:\n",
    "            band_count = src.count\n",
    "            band_names = list(src.descriptions) if src.descriptions else [f'Band {i+1}' for i in range(band_count)]\n",
    "            global_sum = [0.0] * band_count\n",
    "            global_sum_sq = [0.0] * band_count\n",
    "            global_pixel_count = [0] * band_count\n",
    "        \n",
    "        for i in range(1, band_count + 1):\n",
    "            band = src.read(i).astype(np.float32)\n",
    "            nodata = src.nodata\n",
    "            if nodata is not None:\n",
    "                band[band == nodata] = np.nan\n",
    "\n",
    "            valid_pixels = ~np.isnan(band)\n",
    "            band_valid = band[valid_pixels]\n",
    "\n",
    "            if band_valid.size > 0:\n",
    "                idx = i - 1\n",
    "                global_sum[idx] += np.nansum(band_valid)\n",
    "                global_sum_sq[idx] += np.nansum(band_valid**2)\n",
    "                global_pixel_count[idx] += band_valid.size\n",
    "\n",
    "global_mean = [s / c if c > 0 else np.nan for s, c in zip(global_sum, global_pixel_count)]\n",
    "global_std = [\n",
    "    np.sqrt((sq / c) - (m ** 2)) if c > 0 else np.nan\n",
    "    for sq, c, m in zip(global_sum_sq, global_pixel_count, global_mean)\n",
    "]\n",
    "\n",
    "print(\"Global Mean and Std per Band:\")\n",
    "for i in range(band_count):\n",
    "    print(f\"{band_names[i]}: mean={global_mean[i]:.4f}, std={global_std[i]:.4f}\")\n"
   ]
  },
  {
   "cell_type": "markdown",
   "metadata": {},
   "source": []
  },
  {
   "cell_type": "code",
   "execution_count": 5,
   "metadata": {},
   "outputs": [],
   "source": [
    "# Create PyTorch Dataset\n",
    "import torch\n",
    "from torch.utils.data import Dataset\n",
    "import rasterio\n",
    "import numpy as np\n",
    "import os\n",
    "\n",
    "class FireDataset(Dataset):\n",
    "    def __init__(self, merged_dir, mask_dir, band_mean, band_std, transform=None):\n",
    "        self.merged_dir = merged_dir\n",
    "        self.mask_dir = mask_dir\n",
    "        self.transform = transform\n",
    "        \n",
    "        self.ids = [f.split('_')[-1] for f in os.listdir(merged_dir) if f.startswith('merged_')]\n",
    "        \n",
    "        self.band_mean = torch.tensor(band_mean).view(-1, 1, 1)  # shape (bands,1,1)\n",
    "        self.band_std = torch.tensor(band_std).view(-1, 1, 1)\n",
    "        \n",
    "    def __len__(self):\n",
    "        return len(self.ids)\n",
    "    \n",
    "    def __getitem__(self, idx):\n",
    "        id_ = self.ids[idx]\n",
    "        merged_path = os.path.join(self.merged_dir, f'merged_{id_}')\n",
    "        mask_path = os.path.join(self.mask_dir, f'mask_{id_}')\n",
    "        \n",
    "        with rasterio.open(merged_path) as src:\n",
    "            merged = src.read().astype(np.float32)  # (bands, H, W)\n",
    "            nodata = src.nodata\n",
    "            if nodata is not None:\n",
    "                merged[merged == nodata] = np.nan\n",
    "        \n",
    "        with rasterio.open(mask_path) as src:\n",
    "            mask = src.read(1).astype(np.float32)\n",
    "        \n",
    "        # Normalize per band\n",
    "        merged = torch.tensor(merged)\n",
    "        mask = torch.tensor(mask).unsqueeze(0)  # (1,H,W)\n",
    "        \n",
    "        # Replace NaNs with 0 after normalization (or another strategy)\n",
    "        merged = (merged - self.band_mean) / self.band_std\n",
    "        merged = torch.nan_to_num(merged, nan=0.0)\n",
    "        \n",
    "        # Binarize mask\n",
    "        mask = (mask > 0).float()\n",
    "        \n",
    "        if self.transform:\n",
    "            merged, mask = self.transform(merged, mask)\n",
    "        \n",
    "        return merged, mask\n"
   ]
  },
  {
   "cell_type": "code",
   "execution_count": 6,
   "metadata": {},
   "outputs": [],
   "source": [
    "# Train test split, data loaders\n",
    "from torch.utils.data import Subset, DataLoader\n",
    "from sklearn.model_selection import train_test_split\n",
    "\n",
    "dataset = FireDataset(merged_dir, 'data/mask', global_mean, global_std)\n",
    "\n",
    "train_ids, test_ids = train_test_split(list(range(len(dataset))), test_size=0.2, random_state=42)\n",
    "\n",
    "train_dataset = Subset(dataset, train_ids)\n",
    "test_dataset = Subset(dataset, test_ids)\n",
    "\n",
    "train_loader = DataLoader(train_dataset, batch_size=4, shuffle=True)\n",
    "test_loader = DataLoader(test_dataset, batch_size=4, shuffle=False)\n"
   ]
  },
  {
   "cell_type": "code",
   "execution_count": 7,
   "metadata": {},
   "outputs": [
    {
     "name": "stdout",
     "output_type": "stream",
     "text": [
      "Train set size: 765 samples\n",
      "Test set size: 192 samples\n"
     ]
    }
   ],
   "source": [
    "print(f\"Train set size: {len(train_dataset)} samples\")\n",
    "print(f\"Test set size: {len(test_dataset)} samples\")\n"
   ]
  },
  {
   "cell_type": "code",
   "execution_count": 8,
   "metadata": {},
   "outputs": [
    {
     "name": "stdout",
     "output_type": "stream",
     "text": [
      "Per-band mean (batch): tensor([-0.0053, -0.1057,  0.0302, -0.0092,  0.0072,  0.1310,  0.0183,  0.0795,\n",
      "         0.0069,  0.0169, -0.1275, -0.1716, -0.0936,  0.0091,  0.0926, -0.1692,\n",
      "        -0.1466,  0.1645,  0.1670, -0.0591], dtype=torch.float64)\n",
      "Per-band std (batch): tensor([0.9412, 0.8888, 0.9809, 1.0670, 1.0655, 1.1149, 0.9737, 0.9926, 0.8481,\n",
      "        0.9193, 0.8463, 0.8577, 0.8416, 1.0431, 1.2942, 1.1703, 0.8520, 1.1214,\n",
      "        1.0979, 0.6181], dtype=torch.float64)\n"
     ]
    }
   ],
   "source": [
    "# Sanity check - normalization worked on small sample (n=30)\n",
    "loader = DataLoader(dataset, batch_size=30, shuffle=True)\n",
    "batch_merged, batch_mask = next(iter(loader))\n",
    "\n",
    "print(\"Per-band mean (batch):\", batch_merged.mean(dim=[0,2,3]))\n",
    "print(\"Per-band std (batch):\", batch_merged.std(dim=[0,2,3]))\n"
   ]
  },
  {
   "cell_type": "code",
   "execution_count": 9,
   "metadata": {},
   "outputs": [
    {
     "name": "stderr",
     "output_type": "stream",
     "text": [
      "/Users/abbystokes/anaconda3/envs/geoai/lib/python3.10/site-packages/tqdm/auto.py:21: TqdmWarning: IProgress not found. Please update jupyter and ipywidgets. See https://ipywidgets.readthedocs.io/en/stable/user_install.html\n",
      "  from .autonotebook import tqdm as notebook_tqdm\n",
      "INFO:albumentations.check_version:A new version of Albumentations is available: 2.0.8 (you have 1.4.10). Upgrade using: pip install --upgrade albumentations\n"
     ]
    }
   ],
   "source": [
    "#### Model Training Setup ####\n",
    "\n",
    "# Augmentation\n",
    "import albumentations as A\n",
    "from albumentations.pytorch import ToTensorV2\n",
    "\n",
    "# Define augmentation pipeline for training\n",
    "train_transform = A.Compose([\n",
    "    A.HorizontalFlip(p=0.5),\n",
    "    A.VerticalFlip(p=0.5),\n",
    "    A.RandomRotate90(p=0.5),\n",
    "], additional_targets={'mask': 'mask'})\n",
    "\n",
    "# For validation/test, no augmentation except conversion to tensor\n",
    "val_transform = A.Compose([], additional_targets={'mask': 'mask'})\n",
    "\n",
    "# Apply augmentation\n",
    "class FireDataset(Dataset):\n",
    "    def __init__(self, merged_dir, mask_dir, band_mean, band_std, transform=None):\n",
    "        self.merged_dir = merged_dir\n",
    "        self.mask_dir = mask_dir\n",
    "        self.transform = transform\n",
    "        \n",
    "        self.ids = [f.split('_')[-1] for f in os.listdir(merged_dir) if f.startswith('merged_')]\n",
    "        \n",
    "        self.band_mean = torch.tensor(band_mean).view(-1, 1, 1)\n",
    "        self.band_std = torch.tensor(band_std).view(-1, 1, 1)\n",
    "        \n",
    "    def __len__(self):\n",
    "        return len(self.ids)\n",
    "    \n",
    "    def __getitem__(self, idx):\n",
    "        id_ = self.ids[idx]\n",
    "        merged_path = os.path.join(self.merged_dir, f'merged_{id_}')\n",
    "        mask_path = os.path.join(self.mask_dir, f'mask_{id_}')\n",
    "        \n",
    "        with rasterio.open(merged_path) as src:\n",
    "            merged = src.read().astype(np.float32)  # (bands, H, W)\n",
    "            nodata = src.nodata\n",
    "            if nodata is not None:\n",
    "                merged[merged == nodata] = np.nan\n",
    "        \n",
    "        with rasterio.open(mask_path) as src:\n",
    "            mask = src.read(1).astype(np.uint8)  # single band mask\n",
    "        \n",
    "        # Prepare for albumentations: (H, W, bands)\n",
    "        merged = np.nan_to_num(merged, nan=0).transpose(1, 2, 0)\n",
    "        \n",
    "        # Apply augmentation\n",
    "        if self.transform:\n",
    "            augmented = self.transform(image=merged, mask=mask)\n",
    "            merged = augmented['image']\n",
    "            mask = augmented['mask']\n",
    "        \n",
    "        # Normalize bands and convert to tensor (C,H,W)\n",
    "        merged = (merged - self.band_mean.numpy().transpose(1, 2, 0)) / self.band_std.numpy().transpose(1, 2, 0)\n",
    "        merged = torch.tensor(merged.transpose(2, 0, 1), dtype=torch.float32)\n",
    "        mask = torch.tensor(mask, dtype=torch.float32).unsqueeze(0)  # add channel dim\n",
    "        \n",
    "        # Binarize mask just in case\n",
    "        mask = (mask > 0).float()\n",
    "        \n",
    "        return merged, mask\n",
    "\n"
   ]
  },
  {
   "cell_type": "code",
   "execution_count": 10,
   "metadata": {},
   "outputs": [],
   "source": [
    "# CNN Segmentation Net\n",
    "import torch.nn as nn\n",
    "import torch.nn.functional as F\n",
    "\n",
    "class SimpleSegmentationCNN(nn.Module):\n",
    "    def __init__(self, in_channels):\n",
    "        super().__init__()\n",
    "        self.conv1 = nn.Conv2d(in_channels, 32, kernel_size=3, padding=1)\n",
    "        self.conv2 = nn.Conv2d(32, 64, kernel_size=3, padding=1)\n",
    "        self.conv3 = nn.Conv2d(64, 1, kernel_size=1)\n",
    "        \n",
    "    def forward(self, x):\n",
    "        x = F.relu(self.conv1(x))\n",
    "        x = F.relu(self.conv2(x))\n",
    "        x = self.conv3(x)  \n",
    "        return x"
   ]
  },
  {
   "cell_type": "code",
   "execution_count": 11,
   "metadata": {},
   "outputs": [
    {
     "name": "stdout",
     "output_type": "stream",
     "text": [
      "Epoch 1/5 - Train Loss: 0.3544 - Val Loss: 0.3999\n",
      "Epoch 2/5 - Train Loss: 0.3116 - Val Loss: 0.3887\n",
      "Epoch 3/5 - Train Loss: 0.3031 - Val Loss: 0.3743\n",
      "Epoch 4/5 - Train Loss: 0.3031 - Val Loss: 0.3809\n",
      "Epoch 5/5 - Train Loss: 0.3023 - Val Loss: 0.3640\n"
     ]
    }
   ],
   "source": [
    "# Training loop\n",
    "import torch.optim as optim\n",
    "from torch.utils.data import DataLoader, Subset\n",
    "from sklearn.model_selection import train_test_split\n",
    "\n",
    "device = torch.device(\"cuda\" if torch.cuda.is_available() else \"cpu\")\n",
    "\n",
    "# Prepare dataset and splits\n",
    "dataset = FireDataset('data/merged', 'data/mask', global_mean, global_std, transform=train_transform)\n",
    "train_ids, val_ids = train_test_split(list(range(len(dataset))), test_size=0.2, random_state=42)\n",
    "train_dataset = Subset(dataset, train_ids)\n",
    "val_dataset = Subset(FireDataset('data/merged', 'data/mask', global_mean, global_std, transform=val_transform), val_ids)\n",
    "\n",
    "train_loader = DataLoader(train_dataset, batch_size=4, shuffle=True)\n",
    "val_loader = DataLoader(val_dataset, batch_size=4, shuffle=False)\n",
    "\n",
    "# Model, optimizer, loss\n",
    "model = SimpleSegmentationCNN(in_channels=band_count).to(device)\n",
    "optimizer = optim.Adam(model.parameters(), lr=1e-3)\n",
    "#criterion = nn.BCELoss()\n",
    "pos_weight = torch.tensor([10.0], device=device)  # try values from 5 to 50 depending on your dataset\n",
    "criterion = nn.BCEWithLogitsLoss(pos_weight=pos_weight)\n",
    "\n",
    "\n",
    "num_epochs = 5\n",
    "\n",
    "for epoch in range(num_epochs):\n",
    "    model.train()\n",
    "    running_loss = 0\n",
    "    for inputs, masks in train_loader:\n",
    "        inputs = inputs.to(device)\n",
    "        masks = masks.to(device)\n",
    "        \n",
    "        optimizer.zero_grad()\n",
    "        outputs = model(inputs)\n",
    "        loss = criterion(outputs, masks)\n",
    "        loss.backward()\n",
    "        optimizer.step()\n",
    "        \n",
    "        running_loss += loss.item()\n",
    "    \n",
    "    avg_train_loss = running_loss / len(train_loader)\n",
    "    \n",
    "    # Validation\n",
    "    model.eval()\n",
    "    val_loss = 0\n",
    "    with torch.no_grad():\n",
    "        for inputs, masks in val_loader:\n",
    "            inputs = inputs.to(device)\n",
    "            masks = masks.to(device)\n",
    "            outputs = model(inputs)\n",
    "            loss = criterion(outputs, masks)\n",
    "            val_loss += loss.item()\n",
    "    avg_val_loss = val_loss / len(val_loader)\n",
    "    \n",
    "    print(f\"Epoch {epoch+1}/{num_epochs} - Train Loss: {avg_train_loss:.4f} - Val Loss: {avg_val_loss:.4f}\")\n"
   ]
  },
  {
   "cell_type": "code",
   "execution_count": 12,
   "metadata": {},
   "outputs": [
    {
     "data": {
      "image/png": "[encoded data removed]",
      "text/plain": [
       "<Figure size 1500x500 with 3 Axes>"
      ]
     },
     "metadata": {},
     "output_type": "display_data"
    },
    {
     "data": {
      "image/png": "[encoded data removed]",
      "text/plain": [
       "<Figure size 1500x500 with 3 Axes>"
      ]
     },
     "metadata": {},
     "output_type": "display_data"
    },
    {
     "data": {
      "image/png": "[encoded data removed]",
      "text/plain": [
       "<Figure size 1500x500 with 3 Axes>"
      ]
     },
     "metadata": {},
     "output_type": "display_data"
    },
    {
     "data": {
      "image/png": "[encoded data removed]",
      "text/plain": [
       "<Figure size 1500x500 with 3 Axes>"
      ]
     },
     "metadata": {},
     "output_type": "display_data"
    }
   ],
   "source": [
    "# Visualize prediction\n",
    "import matplotlib.pyplot as plt\n",
    "\n",
    "def visualize_predictions(model, dataloader, device, num_samples=4):\n",
    "    model.eval()\n",
    "    inputs, masks = next(iter(dataloader))\n",
    "    inputs = inputs.to(device)\n",
    "    masks = masks.to(device)\n",
    "    \n",
    "    with torch.no_grad():\n",
    "        outputs = model(inputs)           # raw logits\n",
    "        probs = torch.sigmoid(outputs)   # scale to [0, 1]\n",
    "        preds = (probs > 0.5).float()    # binary mask\n",
    "    inputs = inputs.cpu()\n",
    "    masks = masks.cpu()\n",
    "    preds = preds.cpu()\n",
    "    \n",
    "    for i in range(min(num_samples, inputs.size(0))):\n",
    "        fig, axs = plt.subplots(1, 3, figsize=(15, 5))\n",
    "        axs[0].imshow(inputs[i, 0], cmap='viridis')  # show first band as example\n",
    "        axs[0].set_title('Input Band 1 (Example)')\n",
    "        axs[0].axis('off')\n",
    "        \n",
    "        axs[1].imshow(masks[i, 0], cmap='gray')\n",
    "        axs[1].set_title('Ground Truth Mask')\n",
    "        axs[1].axis('off')\n",
    "        \n",
    "        axs[2].imshow(preds[i, 0], cmap='gray')\n",
    "        axs[2].set_title('Predicted Mask')\n",
    "        axs[2].axis('off')\n",
    "        \n",
    "        plt.show()\n",
    "\n",
    "visualize_predictions(model, val_loader, device)\n",
    "\n"
   ]
  },
  {
   "cell_type": "code",
   "execution_count": 13,
   "metadata": {},
   "outputs": [
    {
     "name": "stdout",
     "output_type": "stream",
     "text": [
      "Validation IoU: 0.0755\n",
      "Validation Dice Score: 0.1285\n"
     ]
    }
   ],
   "source": [
    "# Model evaluation\n",
    "def iou_score(preds, targets, threshold=0.5, eps=1e-6):\n",
    "    preds = (preds > threshold).float()\n",
    "    intersection = (preds * targets).sum(dim=[1,2,3])\n",
    "    union = (preds + targets).clamp(0,1).sum(dim=[1,2,3])\n",
    "    iou = (intersection + eps) / (union + eps)\n",
    "    return iou.mean().item()\n",
    "\n",
    "def dice_score(preds, targets, threshold=0.5, eps=1e-6):\n",
    "    preds = (preds > threshold).float()\n",
    "    intersection = (preds * targets).sum(dim=[1,2,3])\n",
    "    dice = (2 * intersection + eps) / (preds.sum(dim=[1,2,3]) + targets.sum(dim=[1,2,3]) + eps)\n",
    "    return dice.mean().item()\n",
    "\n",
    "\n",
    "model.eval()\n",
    "ious = []\n",
    "dices = []\n",
    "\n",
    "with torch.no_grad():\n",
    "    for inputs, targets in val_loader:\n",
    "        inputs = inputs.to(device)\n",
    "        targets = targets.to(device)\n",
    "\n",
    "        outputs = model(inputs)  # raw logits\n",
    "\n",
    "        probs = torch.sigmoid(outputs)  # convert to probabilities\n",
    "        preds = (probs > 0.5).float()   # binarize predictions\n",
    "\n",
    "        ious.append(iou_score(preds, targets))\n",
    "        dices.append(dice_score(preds, targets))\n",
    "\n",
    "print(f\"Validation IoU: {sum(ious)/len(ious):.4f}\")\n",
    "print(f\"Validation Dice Score: {sum(dices)/len(dices):.4f}\")\n",
    "\n"
   ]
  },
  {
   "cell_type": "code",
   "execution_count": null,
   "metadata": {},
   "outputs": [],
   "source": []
  }
 ],
 "metadata": {
  "kernelspec": {
   "display_name": "geoai",
   "language": "python",
   "name": "python3"
  },
  "language_info": {
   "codemirror_mode": {
    "name": "ipython",
    "version": 3
   },
   "file_extension": ".py",
   "mimetype": "text/x-python",
   "name": "python",
   "nbconvert_exporter": "python",
   "pygments_lexer": "ipython3",
   "version": "3.10.16"
  }
 },
 "nbformat": 4,
 "nbformat_minor": 2
}
