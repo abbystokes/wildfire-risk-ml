{
 "cells": [
  {
   "cell_type": "code",
   "execution_count": null,
   "metadata": {},
   "outputs": [],
   "source": [
    "# Precipitacion acumulado del año y anomalia"
   ]
  },
  {
   "cell_type": "code",
   "execution_count": 12,
   "metadata": {},
   "outputs": [
    {
     "name": "stderr",
     "output_type": "stream",
     "text": [
      "100%|██████████| 12/12 [00:08<00:00,  1.35it/s]"
     ]
    },
    {
     "name": "stdout",
     "output_type": "stream",
     "text": [
      "✅ Precipitation anomaly calculation complete.\n"
     ]
    },
    {
     "name": "stderr",
     "output_type": "stream",
     "text": [
      "\n"
     ]
    }
   ],
   "source": [
    "import os\n",
    "import re\n",
    "import numpy as np\n",
    "import rasterio\n",
    "from rasterio.enums import Resampling\n",
    "from rasterio.merge import merge\n",
    "from rasterio.plot import show\n",
    "from collections import defaultdict\n",
    "from datetime import datetime\n",
    "from tqdm import tqdm\n",
    "\n",
    "# Paths\n",
    "input_folder = '/Users/abbystokes/Documents/GitHub/wildfire-risk-ml/capas/clima/WorldClim_Maule/precipitation_monthly'\n",
    "output_folder = '/Users/abbystokes/Documents/GitHub/wildfire-risk-ml/capas/clima/WorldClim_Maule/precipitation_anomaly'\n",
    "os.makedirs(output_folder, exist_ok=True)\n",
    "\n",
    "# Regex to extract year and month\n",
    "pattern = re.compile(r'wc2.1_2.5m_prec_(\\d{4})-(\\d{2})\\.tif')\n",
    "\n",
    "# Parse files\n",
    "files = sorted([\n",
    "    f for f in os.listdir(input_folder)\n",
    "    if pattern.match(f)\n",
    "])\n",
    "\n",
    "# Group files by month\n",
    "monthly_files = defaultdict(list)\n",
    "for f in files:\n",
    "    match = pattern.match(f)\n",
    "    if match:\n",
    "        year, month = int(match.group(1)), int(match.group(2))\n",
    "        monthly_files[month].append((year, f))\n",
    "\n",
    "# Process files\n",
    "for month in tqdm(range(1, 13)):\n",
    "    month_files = sorted(monthly_files[month])\n",
    "    \n",
    "    for i in range(len(month_files)):\n",
    "        year, filename = month_files[i]\n",
    "        \n",
    "        # Use all available previous years (up to 10)\n",
    "        if i == 0:\n",
    "            continue  # Can't calculate anomaly with no history\n",
    "\n",
    "        available_years = month_files[max(0, i-10):i]\n",
    "        past_files = [os.path.join(input_folder, fname) for y, fname in available_years]\n",
    "        \n",
    "        # Read and stack available historical rasters\n",
    "        data_stack = []\n",
    "        for fpath in past_files:\n",
    "            with rasterio.open(fpath) as src:\n",
    "                data_stack.append(src.read(1).astype(np.float32))\n",
    "\n",
    "        if len(data_stack) == 0:\n",
    "            continue  # Just in case, though shouldn't happen\n",
    "\n",
    "        past_avg = np.mean(data_stack, axis=0)\n",
    "\n",
    "        # Read current raster\n",
    "        current_path = os.path.join(input_folder, filename)\n",
    "        with rasterio.open(current_path) as src:\n",
    "            current_data = src.read(1).astype(np.float32)\n",
    "            profile = src.profile\n",
    "\n",
    "        # Compute anomaly\n",
    "        anomaly = current_data - past_avg\n",
    "\n",
    "        # Save result\n",
    "        out_filename = f'anomaly_{filename}'\n",
    "        out_path = os.path.join(output_folder, out_filename)\n",
    "        profile.update(dtype=rasterio.float32, compress='lzw')\n",
    "        with rasterio.open(out_path, 'w', **profile) as dst:\n",
    "            dst.write(anomaly, 1)\n",
    "\n",
    "\n",
    "print(\"✅ Precipitation anomaly calculation complete.\")\n"
   ]
  },
  {
   "cell_type": "code",
   "execution_count": 13,
   "metadata": {},
   "outputs": [
    {
     "data": {
      "image/png": "[encoded data removed]",
      "text/plain": [
       "<Figure size 1000x600 with 2 Axes>"
      ]
     },
     "metadata": {},
     "output_type": "display_data"
    }
   ],
   "source": [
    "import matplotlib.pyplot as plt\n",
    "from rasterio.plot import show\n",
    "\n",
    "# Choose an example anomaly file to visualize\n",
    "example_file = 'anomaly_wc2.1_2.5m_prec_2016-01.tif'\n",
    "example_path = os.path.join(output_folder, example_file)\n",
    "\n",
    "# Load and plot the anomaly map\n",
    "with rasterio.open(example_path) as src:\n",
    "    anomaly_data = src.read(1)\n",
    "    fig, ax = plt.subplots(figsize=(10, 6))\n",
    "    img = show(anomaly_data, ax=ax, cmap='RdBu', title=f'Precipitation Anomaly - Jan 1970')\n",
    "    plt.colorbar(img.get_images()[0], ax=ax, label='Anomaly (mm)')\n"
   ]
  },
  {
   "cell_type": "code",
   "execution_count": 14,
   "metadata": {},
   "outputs": [
    {
     "name": "stderr",
     "output_type": "stream",
     "text": [
      "100%|██████████| 12/12 [00:08<00:00,  1.48it/s]"
     ]
    },
    {
     "name": "stdout",
     "output_type": "stream",
     "text": [
      "✅ Min temp anomaly calculation complete.\n"
     ]
    },
    {
     "name": "stderr",
     "output_type": "stream",
     "text": [
      "\n"
     ]
    }
   ],
   "source": [
    "\n",
    "# Paths\n",
    "input_folder = '/Users/abbystokes/Documents/GitHub/wildfire-risk-ml/capas/clima/WorldClim_Maule/min_temp_monthly'\n",
    "output_folder = '/Users/abbystokes/Documents/GitHub/wildfire-risk-ml/capas/clima/WorldClim_Maule/min_temp_anomaly'\n",
    "os.makedirs(output_folder, exist_ok=True)\n",
    "\n",
    "# Regex to extract year and month\n",
    "pattern = re.compile(r'wc2.1_2.5m_tmin_(\\d{4})-(\\d{2})\\.tif')\n",
    "\n",
    "# Parse files\n",
    "files = sorted([\n",
    "    f for f in os.listdir(input_folder)\n",
    "    if pattern.match(f)\n",
    "])\n",
    "\n",
    "# Group files by month\n",
    "monthly_files = defaultdict(list)\n",
    "for f in files:\n",
    "    match = pattern.match(f)\n",
    "    if match:\n",
    "        year, month = int(match.group(1)), int(match.group(2))\n",
    "        monthly_files[month].append((year, f))\n",
    "\n",
    "# Process files\n",
    "for month in tqdm(range(1, 13)):\n",
    "    month_files = sorted(monthly_files[month])\n",
    "    \n",
    "    for i in range(len(month_files)):\n",
    "        year, filename = month_files[i]\n",
    "        \n",
    "        # Use all available previous years (up to 10)\n",
    "        if i == 0:\n",
    "            continue  # Can't calculate anomaly with no history\n",
    "\n",
    "        available_years = month_files[max(0, i-10):i]\n",
    "        past_files = [os.path.join(input_folder, fname) for y, fname in available_years]\n",
    "        \n",
    "        # Read and stack available historical rasters\n",
    "        data_stack = []\n",
    "        for fpath in past_files:\n",
    "            with rasterio.open(fpath) as src:\n",
    "                data_stack.append(src.read(1).astype(np.float32))\n",
    "\n",
    "        if len(data_stack) == 0:\n",
    "            continue  # Just in case, though shouldn't happen\n",
    "\n",
    "        past_avg = np.mean(data_stack, axis=0)\n",
    "\n",
    "        # Read current raster\n",
    "        current_path = os.path.join(input_folder, filename)\n",
    "        with rasterio.open(current_path) as src:\n",
    "            current_data = src.read(1).astype(np.float32)\n",
    "            profile = src.profile\n",
    "\n",
    "        # Compute anomaly\n",
    "        anomaly = current_data - past_avg\n",
    "\n",
    "        # Save result\n",
    "        out_filename = f'anomaly_{filename}'\n",
    "        out_path = os.path.join(output_folder, out_filename)\n",
    "        profile.update(dtype=rasterio.float32, compress='lzw')\n",
    "        with rasterio.open(out_path, 'w', **profile) as dst:\n",
    "            dst.write(anomaly, 1)\n",
    "\n",
    "\n",
    "print(\"✅ Min temp anomaly calculation complete.\")\n"
   ]
  },
  {
   "cell_type": "code",
   "execution_count": 15,
   "metadata": {},
   "outputs": [
    {
     "name": "stderr",
     "output_type": "stream",
     "text": [
      "100%|██████████| 12/12 [00:08<00:00,  1.48it/s]"
     ]
    },
    {
     "name": "stdout",
     "output_type": "stream",
     "text": [
      "✅ Max temp anomaly calculation complete.\n"
     ]
    },
    {
     "name": "stderr",
     "output_type": "stream",
     "text": [
      "\n"
     ]
    }
   ],
   "source": [
    "\n",
    "# Paths\n",
    "input_folder = '/Users/abbystokes/Documents/GitHub/wildfire-risk-ml/capas/clima/WorldClim_Maule/max_temp_monthly'\n",
    "output_folder = '/Users/abbystokes/Documents/GitHub/wildfire-risk-ml/capas/clima/WorldClim_Maule/max_temp_anomaly'\n",
    "os.makedirs(output_folder, exist_ok=True)\n",
    "\n",
    "# Regex to extract year and month\n",
    "pattern = re.compile(r'wc2.1_2.5m_tmax_(\\d{4})-(\\d{2})\\.tif')\n",
    "\n",
    "# Parse files\n",
    "files = sorted([\n",
    "    f for f in os.listdir(input_folder)\n",
    "    if pattern.match(f)\n",
    "])\n",
    "\n",
    "# Group files by month\n",
    "monthly_files = defaultdict(list)\n",
    "for f in files:\n",
    "    match = pattern.match(f)\n",
    "    if match:\n",
    "        year, month = int(match.group(1)), int(match.group(2))\n",
    "        monthly_files[month].append((year, f))\n",
    "\n",
    "# Process files\n",
    "for month in tqdm(range(1, 13)):\n",
    "    month_files = sorted(monthly_files[month])\n",
    "    \n",
    "    for i in range(len(month_files)):\n",
    "        year, filename = month_files[i]\n",
    "        \n",
    "        # Use all available previous years (up to 10)\n",
    "        if i == 0:\n",
    "            continue  # Can't calculate anomaly with no history\n",
    "\n",
    "        available_years = month_files[max(0, i-10):i]\n",
    "        past_files = [os.path.join(input_folder, fname) for y, fname in available_years]\n",
    "        \n",
    "        # Read and stack available historical rasters\n",
    "        data_stack = []\n",
    "        for fpath in past_files:\n",
    "            with rasterio.open(fpath) as src:\n",
    "                data_stack.append(src.read(1).astype(np.float32))\n",
    "\n",
    "        if len(data_stack) == 0:\n",
    "            continue  # Just in case, though shouldn't happen\n",
    "\n",
    "        past_avg = np.mean(data_stack, axis=0)\n",
    "\n",
    "        # Read current raster\n",
    "        current_path = os.path.join(input_folder, filename)\n",
    "        with rasterio.open(current_path) as src:\n",
    "            current_data = src.read(1).astype(np.float32)\n",
    "            profile = src.profile\n",
    "\n",
    "        # Compute anomaly\n",
    "        anomaly = current_data - past_avg\n",
    "\n",
    "        # Save result\n",
    "        out_filename = f'anomaly_{filename}'\n",
    "        out_path = os.path.join(output_folder, out_filename)\n",
    "        profile.update(dtype=rasterio.float32, compress='lzw')\n",
    "        with rasterio.open(out_path, 'w', **profile) as dst:\n",
    "            dst.write(anomaly, 1)\n",
    "\n",
    "\n",
    "print(\"✅ Max temp anomaly calculation complete.\")\n"
   ]
  },
  {
   "cell_type": "code",
   "execution_count": null,
   "metadata": {},
   "outputs": [],
   "source": []
  }
 ],
 "metadata": {
  "kernelspec": {
   "display_name": "geoai",
   "language": "python",
   "name": "python3"
  },
  "language_info": {
   "codemirror_mode": {
    "name": "ipython",
    "version": 3
   },
   "file_extension": ".py",
   "mimetype": "text/x-python",
   "name": "python",
   "nbconvert_exporter": "python",
   "pygments_lexer": "ipython3",
   "version": "3.10.16"
  }
 },
 "nbformat": 4,
 "nbformat_minor": 2
}
